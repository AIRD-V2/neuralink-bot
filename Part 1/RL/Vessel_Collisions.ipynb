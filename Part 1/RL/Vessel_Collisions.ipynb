{
 "cells": [
  {
   "cell_type": "markdown",
   "metadata": {},
   "source": [
    "# Detect Vessel Collisions\n",
    "Now that we have our pipeline for taking a video of a microscope view of the brain during surgery and performing crops, color thresholding to produce masks, and recombining those back into gifs, its time to begin constructing the simulation in which our learner will live!\n",
    "\n",
    "The first and most critical component of our simulation is to detect when the agent has selected a \"lacing\" site that collides with blood vasculature. This is my testing ground to figure out how to implement that"
   ]
  },
  {
   "cell_type": "code",
   "execution_count": 1,
   "metadata": {},
   "outputs": [],
   "source": [
    "# ROS Kinetic Interferes with cv2 import\n",
    "\n",
    "import sys\n",
    "sys.path.remove('/opt/ros/kinetic/lib/python2.7/dist-packages')"
   ]
  },
  {
   "cell_type": "code",
   "execution_count": 2,
   "metadata": {},
   "outputs": [],
   "source": [
    "import math\n",
    "import cv2\n",
    "import argparse\n",
    "import collections\n",
    "import numpy as np\n",
    "from numpy import savetxt\n",
    "from fastai.vision import *\n",
    "from PIL import Image\n",
    "import matplotlib.patches as patches\n",
    "import matplotlib.pyplot as plt\n",
    "%matplotlib inline\n",
    "\n",
    "import os \n",
    "import glob\n",
    "import imageio"
   ]
  },
  {
   "cell_type": "code",
   "execution_count": 3,
   "metadata": {},
   "outputs": [],
   "source": [
    "# Useful function that was constructed the preserve the order of images since each image is related by the time\n",
    "# dimension. \n",
    "def order_files_by_date(path_to_folder, file_type):\n",
    "    files = glob.glob(\"%s*%s\" % (path_to_folder, file_type))\n",
    "    files.sort(key=os.path.getmtime)\n",
    "    return files"
   ]
  },
  {
   "cell_type": "code",
   "execution_count": 4,
   "metadata": {},
   "outputs": [],
   "source": [
    "top_squares = order_files_by_date(\n",
    "    \"/home/andrew/Github/neuralink-bot/Image_Segmentation/segmented_images/square_segmentation_crops/top_crop/\", \n",
    "    \".jpg\")\n",
    "\n",
    "left_squares = order_files_by_date(\n",
    "    \"/home/andrew/Github/neuralink-bot/Image_Segmentation/segmented_images/square_segmentation_crops/left_crop/\", \n",
    "    \".jpg\")\n",
    "\n",
    "right_squares =order_files_by_date(\n",
    "    \"/home/andrew/Github/neuralink-bot/Image_Segmentation/segmented_images/square_segmentation_crops/right_crop/\", \n",
    "    \".jpg\")"
   ]
  },
  {
   "cell_type": "markdown",
   "metadata": {},
   "source": [
    "# Testing:\n",
    "\n",
    "This section was my testing ground to get things working"
   ]
  },
  {
   "cell_type": "markdown",
   "metadata": {},
   "source": [
    "# Load Test Image"
   ]
  },
  {
   "cell_type": "code",
   "execution_count": 5,
   "metadata": {},
   "outputs": [],
   "source": [
    "def get_example(image_files, index):\n",
    "    img = cv2.imread(image_files[index])\n",
    "    img[img > 150] = 255\n",
    "    img[img < 150] = 0\n",
    "    print(f\"Shape: {img.shape}, Size: {img.size}, Unique: {np.unique(img)}\")\n",
    "    return img"
   ]
  },
  {
   "cell_type": "code",
   "execution_count": 6,
   "metadata": {},
   "outputs": [
    {
     "name": "stdout",
     "output_type": "stream",
     "text": [
      "Shape: (150, 150, 3), Size: 67500, Unique: [  0 255]\n"
     ]
    }
   ],
   "source": [
    "vessel_img = get_example(left_squares, 0)"
   ]
  },
  {
   "cell_type": "code",
   "execution_count": 15,
   "metadata": {},
   "outputs": [],
   "source": [
    "def euc_dist(p1, p2):\n",
    "    \"\"\"Compute Euclidean Distance \"\"\"\n",
    "    return  math.sqrt( ((p1[0]-p2[0])**2)+((p1[1]-p2[1])**2) )"
   ]
  },
  {
   "cell_type": "code",
   "execution_count": 16,
   "metadata": {},
   "outputs": [],
   "source": [
    "def black_pixel_bool(vessel_img, i, j):\n",
    "    \"\"\"Return true if a given pixel is black\"\"\"\n",
    "    if vessel_img[i][j][0] == 0 and vessel_img[i][j][1] == 0 and vessel_img[i][j][2] == 0:\n",
    "        return True\n",
    "    else:\n",
    "        return False"
   ]
  },
  {
   "cell_type": "code",
   "execution_count": 17,
   "metadata": {},
   "outputs": [],
   "source": [
    "class Distances(dict):\n",
    "    \"\"\"Distance Dictionary Object\"\"\"\n",
    "    def __init__(self):\n",
    "        self = dict()\n",
    "    \n",
    "    def add(self, key, value):\n",
    "        self[key] = value"
   ]
  },
  {
   "cell_type": "code",
   "execution_count": 28,
   "metadata": {
    "scrolled": true
   },
   "outputs": [],
   "source": [
    "# This was for testing purposes\n",
    "def compute_nearest_vessel_custom(distance, vessel_img, thread_x, thread_y):\n",
    "    \"\"\"Find the nearest vessel to a point at thread_x, thread_y\"\"\"\n",
    "    for i in range(len(vessel_img)):\n",
    "        for j in range(len(vessel_img)):\n",
    "            if black_pixel_bool(vessel_img, i , j) == True:\n",
    "                result = euc_dist([i, j], [thread_y, thread_x]) \n",
    "                \n",
    "                distance.add((i, j), result)\n",
    "    return distance"
   ]
  },
  {
   "cell_type": "code",
   "execution_count": 41,
   "metadata": {},
   "outputs": [
    {
     "name": "stdout",
     "output_type": "stream",
     "text": [
      "[(96, 114)]\n"
     ]
    },
    {
     "data": {
      "text/plain": [
       "17.08800749063506"
      ]
     },
     "execution_count": 41,
     "metadata": {},
     "output_type": "execute_result"
    }
   ],
   "source": [
    "x = 120\n",
    "y = 80\n",
    "\n",
    "test_dict = Distances()\n",
    "test_dict = compute_nearest_vessel_custom(test_dict, vessel_img, x, y)\n",
    "\n",
    "temp = min(test_dict.values()) \n",
    "res = [key for key in test_dict if test_dict[key] == temp] \n",
    "print(res)\n",
    "test_dict.get((96, 114))\n",
    "test_dict.get((res[0][0], res[0][1]))\n",
    "\n",
    "# print(test_dict.get((test_dict[0][0], test_dict[0][1])))\n",
    "\n",
    "\n",
    "# keys_list = []\n",
    "# for key in test_dict.keys():\n",
    "#     keys_list.append(key)\n",
    "    \n",
    "# keys_list.sort()\n",
    "# keys_list[0]\n",
    "# test_dict[keys_list[0]]\n",
    "\n",
    "\n",
    "# ordered_test = collections.OrderedDict(sorted(distances_2.items()))\n",
    "# ordered_test"
   ]
  },
  {
   "cell_type": "markdown",
   "metadata": {},
   "source": [
    "### Test Plots\n",
    "- Green is the point where we \"placed\" the electrode.\n",
    "- Red is the vessel computed to be most near"
   ]
  },
  {
   "cell_type": "code",
   "execution_count": 58,
   "metadata": {},
   "outputs": [
    {
     "data": {
      "image/png": "[encoded data removed]",
      "text/plain": [
       "<Figure size 432x288 with 1 Axes>"
      ]
     },
     "metadata": {
      "needs_background": "light"
     },
     "output_type": "display_data"
    }
   ],
   "source": [
    "implot = plt.imshow(vessel_img)\n",
    "\n",
    "# put a red dot, size 40, at 2 locations:\n",
    "plt.scatter(x=[x], y=[y], c='g', s=40)\n",
    "plt.scatter(x=114, y=96, c='r', s=40)\n",
    "\n",
    "\n",
    "for i in range(len(vessel_img)):\n",
    "    for j in range(len(vessel_img)):\n",
    "        if black_pixel_bool(vessel_img, i , j) == True:\n",
    "            plt.scatter(x=[j], y=[i], c='b', s=1)\n",
    "# for val in distances_2.values():\n",
    "#     plt.scatter(x=[val[0]], y=[val[1]], c='b', s=40)\n",
    "\n",
    "plt.show()"
   ]
  },
  {
   "cell_type": "markdown",
   "metadata": {},
   "source": [
    "### One More Set Of Tests"
   ]
  },
  {
   "cell_type": "code",
   "execution_count": 14,
   "metadata": {},
   "outputs": [
    {
     "data": {
      "image/png": "[encoded data removed]",
      "text/plain": [
       "<Figure size 432x288 with 1 Axes>"
      ]
     },
     "metadata": {
      "needs_background": "light"
     },
     "output_type": "display_data"
    }
   ],
   "source": [
    "x2 = 40\n",
    "y2 = 100\n",
    "\n",
    "test_dict2 = Distances()\n",
    "test_dict2 = compute_nearest_vessel_custom(test_dict2, vessel_img, x2, y2)\n",
    "ordered_test2 = collections.OrderedDict(sorted(test_dict2.items()))\n",
    "ordered_test2\n",
    "\n",
    "implot = plt.imshow(vessel_img)\n",
    "\n",
    "# put a red dot, size 40, at 2 locations:\n",
    "plt.scatter(x=[x2], y=[y2], c='g', s=40)\n",
    "plt.scatter(x=44, y=112, c='r', s=40)\n",
    "\n",
    "\n",
    "for i in range(len(vessel_img)):\n",
    "    for j in range(len(vessel_img)):\n",
    "        if black_pixel_bool(vessel_img, i , j) == True:\n",
    "            plt.scatter(x=[j], y=[i], c='b', s=1)\n",
    "# for val in distances_2.values():\n",
    "#     plt.scatter(x=[val[0]], y=[val[1]], c='b', s=40)\n",
    "\n",
    "plt.show()"
   ]
  }
 ],
 "metadata": {
  "kernelspec": {
   "display_name": "Python 3",
   "language": "python",
   "name": "python3"
  },
  "language_info": {
   "codemirror_mode": {
    "name": "ipython",
    "version": 3
   },
   "file_extension": ".py",
   "mimetype": "text/x-python",
   "name": "python",
   "nbconvert_exporter": "python",
   "pygments_lexer": "ipython3",
   "version": "3.7.6"
  }
 },
 "nbformat": 4,
 "nbformat_minor": 4
}
