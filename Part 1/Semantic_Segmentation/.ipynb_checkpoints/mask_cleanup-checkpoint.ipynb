{
 "cells": [
  {
   "cell_type": "code",
   "execution_count": 2,
   "metadata": {},
   "outputs": [
    {
     "name": "stdout",
     "output_type": "stream",
     "text": [
      "['/home/andrew/Github/neuralink-bot/Semantic_Segmentation', '', '/opt/ros/kinetic/lib/python2.7/dist-packages', '/home/andrew/anaconda3/lib/python37.zip', '/home/andrew/anaconda3/lib/python3.7', '/home/andrew/anaconda3/lib/python3.7/lib-dynload', '/home/andrew/anaconda3/lib/python3.7/site-packages', '/home/andrew/anaconda3/lib/python3.7/site-packages/IPython/extensions', '/home/andrew/.ipython']\n"
     ]
    }
   ],
   "source": [
    "import sys\n",
    "print(sys.path)\n",
    "sys.path.remove('/opt/ros/kinetic/lib/python2.7/dist-packages')"
   ]
  },
  {
   "cell_type": "code",
   "execution_count": 3,
   "metadata": {},
   "outputs": [],
   "source": [
    "import cv2\n",
    "import argparse\n",
    "import numpy as np\n",
    "from PIL import Image\n",
    "from fastai.vision import *\n",
    "import matplotlib.pyplot as plt\n",
    "%matplotlib inline\n",
    "\n",
    "import os \n",
    "import glob\n",
    "import imageio"
   ]
  },
  {
   "cell_type": "code",
   "execution_count": 5,
   "metadata": {},
   "outputs": [],
   "source": [
    "def order_files_by_date(path_to_folder, file_type):\n",
    "    files = glob.glob(\"%s*%s\" % (path_to_folder, file_type))\n",
    "    files.sort(key=os.path.getmtime)\n",
    "    return files"
   ]
  },
  {
   "cell_type": "code",
   "execution_count": 17,
   "metadata": {},
   "outputs": [],
   "source": [
    "pre_masks = order_files_by_date(\n",
    "    '/home/andrew/Github/neuralink-bot/Semantic_Segmentation/data/pre_masks/',\n",
    "    '.jpg'                  \n",
    ")"
   ]
  },
  {
   "cell_type": "code",
   "execution_count": 7,
   "metadata": {},
   "outputs": [],
   "source": [
    "def make_image(data, outputname, size=(5, 5), dpi=100):\n",
    "    fig = plt.figure()\n",
    "    fig.set_size_inches(size)\n",
    "    ax = plt.Axes(fig, [0., 0., 1., 1.])\n",
    "    ax.set_axis_off()\n",
    "    fig.add_axes(ax)\n",
    "    plt.set_cmap('hot')\n",
    "    ax.imshow(data, aspect='equal')\n",
    "    plt.savefig(outputname, dpi=dpi)"
   ]
  },
  {
   "cell_type": "code",
   "execution_count": 10,
   "metadata": {},
   "outputs": [],
   "source": [
    "def clean_images(image_files):\n",
    "    for z, file in enumerate(image_files):\n",
    "        cap = cv2.imread(str(image_files[z]))\n",
    "        cap = cv2.cvtColor(cap, cv2.COLOR_BGR2RGB)\n",
    "        cap[cap > 230] = 255\n",
    "        cap[cap < 220] = 0\n",
    "        for i in range(len(cap)):\n",
    "            for j in range(len(cap[i])):\n",
    "                if cap[i][j][0] == 0 and cap[i][j][1] >= 200 and cap[i][j][2] >= 0:\n",
    "                    cap[i][j][0] = 255\n",
    "                    \n",
    "        output_name = f\"/home/andrew/Github/neuralink-bot/Semantic_Segmentation/data/masks/left_crop_{z}.jpg\"\n",
    "        print(output_name)\n",
    "        cv2.imwrite(output_name, cap)"
   ]
  },
  {
   "cell_type": "code",
   "execution_count": 18,
   "metadata": {},
   "outputs": [
    {
     "name": "stdout",
     "output_type": "stream",
     "text": [
      "/home/andrew/Github/neuralink-bot/Semantic_Segmentation/data/masks/left_crop_0.jpg\n",
      "/home/andrew/Github/neuralink-bot/Semantic_Segmentation/data/masks/left_crop_1.jpg\n",
      "/home/andrew/Github/neuralink-bot/Semantic_Segmentation/data/masks/left_crop_2.jpg\n",
      "/home/andrew/Github/neuralink-bot/Semantic_Segmentation/data/masks/left_crop_3.jpg\n",
      "/home/andrew/Github/neuralink-bot/Semantic_Segmentation/data/masks/left_crop_4.jpg\n"
     ]
    }
   ],
   "source": [
    "clean_images(pre_masks)"
   ]
  }
 ],
 "metadata": {
  "kernelspec": {
   "display_name": "Python 3",
   "language": "python",
   "name": "python3"
  },
  "language_info": {
   "codemirror_mode": {
    "name": "ipython",
    "version": 3
   },
   "file_extension": ".py",
   "mimetype": "text/x-python",
   "name": "python",
   "nbconvert_exporter": "python",
   "pygments_lexer": "ipython3",
   "version": "3.7.6"
  }
 },
 "nbformat": 4,
 "nbformat_minor": 4
}
