{
 "cells": [
  {
   "cell_type": "code",
   "execution_count": 22,
   "metadata": {},
   "outputs": [],
   "source": [
    "import numpy as np\n",
    "import matplotlib.pyplot as plt\n",
    "import matplotlib.animation as animation\n",
    "from fastai.vision import *\n",
    "\n",
    "import os \n",
    "import glob\n",
    "import imageio"
   ]
  },
  {
   "cell_type": "code",
   "execution_count": 18,
   "metadata": {},
   "outputs": [],
   "source": [
    "def order_files_by_date(path_to_folder, file_type):\n",
    "    files = glob.glob(\"%s*%s\" % (path_to_folder, file_type))\n",
    "    files.sort(key=os.path.getmtime)\n",
    "    return files"
   ]
  },
  {
   "cell_type": "code",
   "execution_count": 21,
   "metadata": {},
   "outputs": [],
   "source": [
    "top_crops = order_files_by_date(\n",
    "    \"/home/andrew/Github/neuralink-bot/image_manipulation/segmented_images/top_crop/\", \n",
    "    \".jpg\")\n",
    "\n",
    "left_crops = order_files_by_date(\n",
    "    \"/home/andrew/Github/neuralink-bot/image_manipulation/segmented_images/top_crop/\", \n",
    "    \".jpg\")\n",
    "\n",
    "right_crops = order_files_by_date(\n",
    "    \"/home/andrew/Github/neuralink-bot/image_manipulation/segmented_images/top_crop/\", \n",
    "    \".jpg\")"
   ]
  },
  {
   "cell_type": "code",
   "execution_count": 23,
   "metadata": {},
   "outputs": [],
   "source": [
    "images = []\n",
    "for filename in top_crops:\n",
    "    images.append(imageio.imread(filename))\n",
    "imageio.mimsave(\"/home/andrew/Github/neuralink-bot/image_manipulation/segmented_images/top_crops.gif\", images)"
   ]
  }
 ],
 "metadata": {
  "kernelspec": {
   "display_name": "Python 3",
   "language": "python",
   "name": "python3"
  },
  "language_info": {
   "codemirror_mode": {
    "name": "ipython",
    "version": 3
   },
   "file_extension": ".py",
   "mimetype": "text/x-python",
   "name": "python",
   "nbconvert_exporter": "python",
   "pygments_lexer": "ipython3",
   "version": "3.7.6"
  }
 },
 "nbformat": 4,
 "nbformat_minor": 4
}
