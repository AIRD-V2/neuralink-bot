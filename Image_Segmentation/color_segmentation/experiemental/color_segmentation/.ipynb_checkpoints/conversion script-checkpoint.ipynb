{
 "cells": [
  {
   "cell_type": "code",
   "execution_count": 1,
   "metadata": {},
   "outputs": [
    {
     "name": "stdout",
     "output_type": "stream",
     "text": [
      "['/home/andrew/Github/neuralink-bot/image_manipulation/color_segmentation', '', '/opt/ros/kinetic/lib/python2.7/dist-packages', '/home/andrew/anaconda3/lib/python37.zip', '/home/andrew/anaconda3/lib/python3.7', '/home/andrew/anaconda3/lib/python3.7/lib-dynload', '/home/andrew/anaconda3/lib/python3.7/site-packages', '/home/andrew/anaconda3/lib/python3.7/site-packages/IPython/extensions', '/home/andrew/.ipython']\n"
     ]
    }
   ],
   "source": [
    "import sys\n",
    "print(sys.path)\n",
    "sys.path.remove('/opt/ros/kinetic/lib/python2.7/dist-packages')"
   ]
  },
  {
   "cell_type": "code",
   "execution_count": 2,
   "metadata": {},
   "outputs": [],
   "source": [
    "from fastai.vision import *\n",
    "import cv2"
   ]
  },
  {
   "cell_type": "markdown",
   "metadata": {},
   "source": [
    "Currently the crops for a given image exist in the top_crops (which contains a left and right microscope view), and the respective left and right crops which further separate these"
   ]
  },
  {
   "cell_type": "code",
   "execution_count": 3,
   "metadata": {},
   "outputs": [],
   "source": [
    "top_crops = get_image_files(\"/home/andrew/Github/neuralink-bot/image_manipulation/top_crop/\")\n",
    "left_crops = get_image_files(\"/home/andrew/Github/neuralink-bot/image_manipulation/left_crop\")\n",
    "right_Crops = get_image_files(\"/home/andrew/Github/neuralink-bot/image_manipulation/right_crop\")"
   ]
  },
  {
   "cell_type": "markdown",
   "metadata": {},
   "source": [
    "# Conversion"
   ]
  },
  {
   "cell_type": "code",
   "execution_count": 41,
   "metadata": {},
   "outputs": [],
   "source": [
    "def threshold_vessels(image_files, full_directory, name_prefix):\n",
    "    for i, file in enumerate(image_files):\n",
    "        cap = cv2.imread(str(left_crops[i]))\n",
    "        hsv = cv2.cvtColor(cap, cv2.COLOR_BGR2HSV)\n",
    "        # Lower and upper bounds for masks.\n",
    "        # I know I should really fine tune these filters\n",
    "        # but this is the best I can do for now.\n",
    "        lower_blue = np.array([0,0,100])\n",
    "        upper_blue = np.array([255,255,255])\n",
    "\n",
    "        mask = cv2.inRange(hsv, lower_blue, upper_blue)\n",
    "        result = cv2.bitwise_not(cap, cap, mask = mask)\n",
    "\n",
    "        plt.imshow(mask)\n",
    "        plt.savefig(\"%s%s_%s.jpg\" % (full_directory, name_prefix, i))"
   ]
  },
  {
   "cell_type": "code",
   "execution_count": 42,
   "metadata": {},
   "outputs": [
    {
     "data": {
      "image/png": "[encoded data removed]",
      "text/plain": [
       "<Figure size 432x288 with 1 Axes>"
      ]
     },
     "metadata": {
      "needs_background": "light"
     },
     "output_type": "display_data"
    }
   ],
   "source": [
    "threshold_vessels(top_crops, \n",
    "                 \"/home/andrew/Github/neuralink-bot/image_manipulation/segmented_images/top_crop/\", \n",
    "                 \"top_crop\")"
   ]
  },
  {
   "cell_type": "code",
   "execution_count": 43,
   "metadata": {},
   "outputs": [
    {
     "data": {
      "image/png": "[encoded data removed]",
      "text/plain": [
       "<Figure size 432x288 with 1 Axes>"
      ]
     },
     "metadata": {
      "needs_background": "light"
     },
     "output_type": "display_data"
    }
   ],
   "source": [
    "threshold_vessels(left_crops, \n",
    "                 \"/home/andrew/Github/neuralink-bot/image_manipulation/segmented_images/left_crop/\", \n",
    "                 \"left_crop\")"
   ]
  },
  {
   "cell_type": "code",
   "execution_count": 44,
   "metadata": {},
   "outputs": [
    {
     "ename": "NameError",
     "evalue": "name 'right_crops' is not defined",
     "output_type": "error",
     "traceback": [
      "\u001b[0;31m---------------------------------------------------------------------------\u001b[0m",
      "\u001b[0;31mNameError\u001b[0m                                 Traceback (most recent call last)",
      "\u001b[0;32m<ipython-input-44-6d424ecb96f4>\u001b[0m in \u001b[0;36m<module>\u001b[0;34m\u001b[0m\n\u001b[0;32m----> 1\u001b[0;31m threshold_vessels(right_crops, \n\u001b[0m\u001b[1;32m      2\u001b[0m                  \u001b[0;34m\"/home/andrew/Github/neuralink-bot/image_manipulation/segmented_images/right_crop/\"\u001b[0m\u001b[0;34m,\u001b[0m\u001b[0;34m\u001b[0m\u001b[0;34m\u001b[0m\u001b[0m\n\u001b[1;32m      3\u001b[0m                  \"right_crop\")\n",
      "\u001b[0;31mNameError\u001b[0m: name 'right_crops' is not defined"
     ]
    }
   ],
   "source": [
    "threshold_vessels(right_crops, \n",
    "                 \"/home/andrew/Github/neuralink-bot/image_manipulation/segmented_images/right_crop/\", \n",
    "                 \"right_crop\")"
   ]
  }
 ],
 "metadata": {
  "kernelspec": {
   "display_name": "Python 3",
   "language": "python",
   "name": "python3"
  },
  "language_info": {
   "codemirror_mode": {
    "name": "ipython",
    "version": 3
   },
   "file_extension": ".py",
   "mimetype": "text/x-python",
   "name": "python",
   "nbconvert_exporter": "python",
   "pygments_lexer": "ipython3",
   "version": "3.7.6"
  }
 },
 "nbformat": 4,
 "nbformat_minor": 4
}
