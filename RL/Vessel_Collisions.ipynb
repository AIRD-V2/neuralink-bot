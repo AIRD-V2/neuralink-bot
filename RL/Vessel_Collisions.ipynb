{
 "cells": [
  {
   "cell_type": "markdown",
   "metadata": {},
   "source": [
    "# Detect Vessel Collisions\n",
    "Now that we have our pipeline for taking a video of a microscope view of the brain during surgery and performing crops, color thresholding to produce masks, and recombining those back into gifs, its time to begin constructing the simulation in which our learner will live!\n",
    "\n",
    "The first and most critical component of our simulation is to detect when the agent has selected a \"lacing\" site that collides with blood vasculature. This is my testing ground to figure out how to implement that"
   ]
  },
  {
   "cell_type": "code",
   "execution_count": 2,
   "metadata": {},
   "outputs": [],
   "source": [
    "# ROS Kinetic Interferes with cv2 import\n",
    "\n",
    "import sys\n",
    "sys.path.remove('/opt/ros/kinetic/lib/python2.7/dist-packages')"
   ]
  },
  {
   "cell_type": "code",
   "execution_count": 72,
   "metadata": {},
   "outputs": [],
   "source": [
    "import math\n",
    "import cv2\n",
    "import argparse\n",
    "import numpy as np\n",
    "from numpy import savetxt\n",
    "from fastai.vision import *\n",
    "from PIL import Image\n",
    "import matplotlib.patches as patches\n",
    "import matplotlib.pyplot as plt\n",
    "%matplotlib inline\n",
    "\n",
    "import os \n",
    "import glob\n",
    "import imageio"
   ]
  },
  {
   "cell_type": "code",
   "execution_count": 4,
   "metadata": {},
   "outputs": [],
   "source": [
    "# Useful function that was constructed the preserve the order of images since each image is related by the time\n",
    "# dimension. \n",
    "def order_files_by_date(path_to_folder, file_type):\n",
    "    files = glob.glob(\"%s*%s\" % (path_to_folder, file_type))\n",
    "    files.sort(key=os.path.getmtime)\n",
    "    return files"
   ]
  },
  {
   "cell_type": "code",
   "execution_count": 56,
   "metadata": {},
   "outputs": [],
   "source": [
    "top_squares = order_files_by_date(\n",
    "    \"/home/andrew/Github/neuralink-bot/Image_Segmentation/segmented_images/square_segmentation_crops/top_crop/\", \n",
    "    \".jpg\")\n",
    "\n",
    "left_squares = order_files_by_date(\n",
    "    \"/home/andrew/Github/neuralink-bot/Image_Segmentation/segmented_images/square_segmentation_crops/left_crop/\", \n",
    "    \".jpg\")\n",
    "\n",
    "right_squares =order_files_by_date(\n",
    "    \"/home/andrew/Github/neuralink-bot/Image_Segmentation/segmented_images/square_segmentation_crops/right_crop/\", \n",
    "    \".jpg\")"
   ]
  },
  {
   "cell_type": "markdown",
   "metadata": {},
   "source": [
    "# Load Test Image"
   ]
  },
  {
   "cell_type": "code",
   "execution_count": 69,
   "metadata": {},
   "outputs": [],
   "source": [
    "def get_example(image_files, index):\n",
    "    img = cv2.imread(image_files[index])\n",
    "    print(f\"Shape: {img.shape}, Size: {img.size}\")\n",
    "    return img"
   ]
  },
  {
   "cell_type": "code",
   "execution_count": 102,
   "metadata": {},
   "outputs": [
    {
     "name": "stdout",
     "output_type": "stream",
     "text": [
      "Shape: (150, 150, 3), Size: 67500\n"
     ]
    }
   ],
   "source": [
    "vessel_img = get_example(left_squares, 0)"
   ]
  },
  {
   "cell_type": "code",
   "execution_count": 73,
   "metadata": {},
   "outputs": [],
   "source": [
    "def euc_dist(p1, p2):\n",
    "    return  math.sqrt( ((p1[0]-p2[0])**2)+((p1[1]-p2[1])**2) )"
   ]
  },
  {
   "cell_type": "code",
   "execution_count": 93,
   "metadata": {},
   "outputs": [],
   "source": [
    "def black_pixel_bool(vessel_img, i, j):\n",
    "    if img[i][j][0] == 255 and img[i][j][1] == 255 and img[i][j][2] == 255:\n",
    "        return True\n",
    "    else:\n",
    "        return False"
   ]
  },
  {
   "cell_type": "code",
   "execution_count": 100,
   "metadata": {},
   "outputs": [],
   "source": [
    "thread_x = 95\n",
    "thread_y = 95\n",
    "\n",
    "distances = []\n",
    "\n",
    "def compute_nearest_vessel(thread, vessel_img):\n",
    "    for i in range(len(vessel_img)):\n",
    "        for j in range(len(vessel_img)):\n",
    "            if black_pixel_bool(vessel_img, i , j) == True:\n",
    "                result = euc_dist([i, j], [thread_x, thread_y]) \n",
    "                distances.append(result)"
   ]
  },
  {
   "cell_type": "code",
   "execution_count": 103,
   "metadata": {},
   "outputs": [],
   "source": [
    "compute_nearest_vessel('thread', vessel_img)"
   ]
  },
  {
   "cell_type": "code",
   "execution_count": 105,
   "metadata": {
    "scrolled": true
   },
   "outputs": [
    {
     "name": "stdout",
     "output_type": "stream",
     "text": [
      "11931\n"
     ]
    }
   ],
   "source": [
    "print(np.argmin(distances))"
   ]
  }
 ],
 "metadata": {
  "kernelspec": {
   "display_name": "Python 3",
   "language": "python",
   "name": "python3"
  },
  "language_info": {
   "codemirror_mode": {
    "name": "ipython",
    "version": 3
   },
   "file_extension": ".py",
   "mimetype": "text/x-python",
   "name": "python",
   "nbconvert_exporter": "python",
   "pygments_lexer": "ipython3",
   "version": "3.7.6"
  }
 },
 "nbformat": 4,
 "nbformat_minor": 4
}
